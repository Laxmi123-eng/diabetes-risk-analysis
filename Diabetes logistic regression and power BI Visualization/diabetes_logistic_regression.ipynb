{
 "cells": [
  {
   "cell_type": "markdown",
   "id": "44f37f38",
   "metadata": {},
   "source": [
    "\n",
    "# Diabetes Prediction with Logistic Regression (Jupyter Notebook)\n",
    "\n",
    "This notebook builds a **logistic regression** classifier on the classic Pima Indians Diabetes dataset (`diabetes.csv`), evaluates it with standard metrics, and visualizes results (confusion matrix and ROC curve).  \n",
    "It is clean, portfolio-ready, and uses **matplotlib only** for plots.\n"
   ]
  },
  {
   "cell_type": "markdown",
   "id": "fb58cb0f",
   "metadata": {},
   "source": [
    "\n",
    "## 1) Requirements\n",
    "Run this once if needed:\n",
    "```bash\n",
    "pip install pandas scikit-learn matplotlib\n",
    "```\n"
   ]
  },
  {
   "cell_type": "code",
   "execution_count": null,
   "id": "8be2288f",
   "metadata": {},
   "outputs": [],
   "source": [
    "\n",
    "import pandas as pd\n",
    "import numpy as np\n",
    "\n",
    "from sklearn.model_selection import train_test_split\n",
    "from sklearn.preprocessing import StandardScaler\n",
    "from sklearn.pipeline import Pipeline\n",
    "from sklearn.linear_model import LogisticRegression\n",
    "from sklearn.metrics import (\n",
    "    accuracy_score, confusion_matrix, classification_report,\n",
    "    roc_curve, auc\n",
    ")\n",
    "\n",
    "import matplotlib.pyplot as plt\n",
    "\n",
    "# Display options\n",
    "pd.set_option('display.max_columns', None)\n"
   ]
  },
  {
   "cell_type": "markdown",
   "id": "a0f03fc5",
   "metadata": {},
   "source": [
    "## 2) Load the data"
   ]
  },
  {
   "cell_type": "code",
   "execution_count": null,
   "id": "4e193ad0",
   "metadata": {},
   "outputs": [],
   "source": [
    "\n",
    "# Adjust the path if your file is elsewhere\n",
    "DATA_PATH = \"diabetes.csv\"\n",
    "df = pd.read_csv(DATA_PATH)\n",
    "df.head()\n"
   ]
  },
  {
   "cell_type": "markdown",
   "id": "52f1847e",
   "metadata": {},
   "source": [
    "## 3) Quick data check"
   ]
  },
  {
   "cell_type": "code",
   "execution_count": null,
   "id": "a5860e2f",
   "metadata": {},
   "outputs": [],
   "source": [
    "\n",
    "print(df.shape)\n",
    "print(df.dtypes)\n",
    "df.describe()\n"
   ]
  },
  {
   "cell_type": "markdown",
   "id": "76a13aaf",
   "metadata": {},
   "source": [
    "## 4) Optional: simple histograms"
   ]
  },
  {
   "cell_type": "code",
   "execution_count": null,
   "id": "56482c01",
   "metadata": {},
   "outputs": [],
   "source": [
    "\n",
    "numeric_cols = [c for c in df.columns if c != \"Outcome\"]\n",
    "for col in numeric_cols:\n",
    "    plt.figure()\n",
    "    df[col].hist(bins=30)\n",
    "    plt.title(f\"Distribution of {col}\")\n",
    "    plt.xlabel(col)\n",
    "    plt.ylabel(\"Count\")\n",
    "    plt.show()\n"
   ]
  },
  {
   "cell_type": "markdown",
   "id": "0c03fa9b",
   "metadata": {},
   "source": [
    "## 5) Train / Test split and model pipeline"
   ]
  },
  {
   "cell_type": "code",
   "execution_count": null,
   "id": "853e4f0c",
   "metadata": {},
   "outputs": [],
   "source": [
    "\n",
    "X = df.drop(columns=[\"Outcome\"])\n",
    "y = df[\"Outcome\"]\n",
    "\n",
    "X_train, X_test, y_train, y_test = train_test_split(\n",
    "    X, y, test_size=0.2, random_state=42, stratify=y\n",
    ")\n",
    "\n",
    "# Pipeline: scale features then logistic regression\n",
    "pipe = Pipeline(steps=[\n",
    "    (\"scaler\", StandardScaler()),\n",
    "    (\"logreg\", LogisticRegression(max_iter=1000))\n",
    "])\n",
    "\n",
    "pipe.fit(X_train, y_train)\n",
    "\n",
    "y_pred = pipe.predict(X_test)\n",
    "y_prob = pipe.predict_proba(X_test)[:, 1]\n",
    "\n",
    "acc = accuracy_score(y_test, y_pred)\n",
    "print(f\"Accuracy: {acc:.3f}\\n\")\n",
    "\n",
    "print(\"Classification report:\")\n",
    "print(classification_report(y_test, y_pred))\n"
   ]
  },
  {
   "cell_type": "markdown",
   "id": "81f64fda",
   "metadata": {},
   "source": [
    "## 6) Confusion Matrix"
   ]
  },
  {
   "cell_type": "code",
   "execution_count": null,
   "id": "e14665d2",
   "metadata": {},
   "outputs": [],
   "source": [
    "\n",
    "cm = confusion_matrix(y_test, y_pred)\n",
    "plt.figure()\n",
    "plt.imshow(cm, interpolation='nearest')\n",
    "plt.title(\"Confusion Matrix\")\n",
    "plt.colorbar()\n",
    "tick_marks = np.arange(2)\n",
    "classes = [\"No Diabetes\", \"Diabetes\"]\n",
    "plt.xticks(tick_marks, classes, rotation=45)\n",
    "plt.yticks(tick_marks, classes)\n",
    "thresh = cm.max() / 2.\n",
    "for i in range(cm.shape[0]):\n",
    "    for j in range(cm.shape[1]):\n",
    "        plt.text(j, i, format(cm[i, j], 'd'),\n",
    "                 horizontalalignment=\"center\",\n",
    "                 color=\"white\" if cm[i, j] > thresh else \"black\")\n",
    "plt.ylabel(\"Actual\")\n",
    "plt.xlabel(\"Predicted\")\n",
    "plt.tight_layout()\n",
    "plt.show()\n"
   ]
  },
  {
   "cell_type": "markdown",
   "id": "71be98c4",
   "metadata": {},
   "source": [
    "## 7) ROC Curve & AUC"
   ]
  },
  {
   "cell_type": "code",
   "execution_count": null,
   "id": "06a50ac4",
   "metadata": {},
   "outputs": [],
   "source": [
    "\n",
    "fpr, tpr, thresholds = roc_curve(y_test, y_prob)\n",
    "roc_auc = auc(fpr, tpr)\n",
    "\n",
    "plt.figure()\n",
    "plt.plot(fpr, tpr, label=f\"AUC = {roc_auc:.2f}\")\n",
    "plt.plot([0, 1], [0, 1], linestyle=\"--\")\n",
    "plt.xlabel(\"False Positive Rate\")\n",
    "plt.ylabel(\"True Positive Rate\")\n",
    "plt.title(\"ROC Curve\")\n",
    "plt.legend(loc=\"lower right\")\n",
    "plt.show()\n"
   ]
  },
  {
   "cell_type": "markdown",
   "id": "5c21bf7e",
   "metadata": {},
   "source": [
    "## 8) Feature Importance (Coefficients)"
   ]
  },
  {
   "cell_type": "code",
   "execution_count": null,
   "id": "3a2ca8ee",
   "metadata": {},
   "outputs": [],
   "source": [
    "\n",
    "# Extract coefficients from the trained logistic regression\n",
    "logreg = pipe.named_steps[\"logreg\"]\n",
    "scaler = pipe.named_steps[\"scaler\"]\n",
    "\n",
    "# Coefficients correspond to scaled features in the same order as X columns\n",
    "coef = logreg.coef_.ravel()\n",
    "importance = pd.Series(coef, index=X.columns).sort_values(key=abs, ascending=False)\n",
    "importance_df = importance.reset_index()\n",
    "importance_df.columns = [\"feature\", \"coefficient\"]\n",
    "importance_df\n"
   ]
  },
  {
   "cell_type": "code",
   "execution_count": null,
   "id": "b23f8cef",
   "metadata": {},
   "outputs": [],
   "source": [
    "\n",
    "plt.figure()\n",
    "plt.barh(importance.index, importance.values)\n",
    "plt.title(\"Logistic Regression Coefficients (by absolute value)\")\n",
    "plt.xlabel(\"Coefficient\")\n",
    "plt.ylabel(\"Feature\")\n",
    "plt.gca().invert_yaxis()\n",
    "plt.tight_layout()\n",
    "plt.show()\n"
   ]
  }
 ],
 "metadata": {},
 "nbformat": 4,
 "nbformat_minor": 5
}
